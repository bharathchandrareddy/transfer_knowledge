{
 "cells": [
  {
   "cell_type": "code",
   "execution_count": 1,
   "metadata": {},
   "outputs": [],
   "source": [
    "# this file is the first version of the student model and checking its performance on dataset"
   ]
  },
  {
   "cell_type": "code",
   "execution_count": 2,
   "metadata": {},
   "outputs": [],
   "source": [
    "import tensorflow as tf\n",
    "from tensorflow.keras.preprocessing.image import ImageDataGenerator\n",
    "from keras.models import Sequential\n",
    "from keras.models import Sequential\n",
    "from keras.layers import Conv2D, MaxPooling2D, AveragePooling2D, Bidirectional, GRU\n",
    "from keras.layers import Flatten, Dense, Reshape\n",
    "from keras.optimizers import Adam\n",
    "import PIL\n",
    "import scipy\n"
   ]
  },
  {
   "cell_type": "code",
   "execution_count": 3,
   "metadata": {},
   "outputs": [],
   "source": [
    "# creating the datasets\n",
    "train_dataset_path=\"C:\\\\Users\\\\PC\\\\Desktop\\\\lisnen_data\\\\validation_data\\\\train\"\n",
    "val_dataset_path = \"C:\\\\Users\\\\PC\\\\Desktop\\\\lisnen_data\\\\validation_data\\\\val\"\n",
    "test_dataset_path = \"C:\\\\Users\\\\PC\\\\Desktop\\\\lisnen_data\\\\validation_data\\\\test\"\n"
   ]
  },
  {
   "cell_type": "code",
   "execution_count": 4,
   "metadata": {},
   "outputs": [],
   "source": [
    "def data_gen():\n",
    "    \n",
    "\n",
    "    train_datagen = ImageDataGenerator(rescale=1.0/255,\n",
    "                                       zoom_range=0.2,\n",
    "                                       width_shift_range=0.2,\n",
    "                                       height_shift_range=0.2,\n",
    "                                       fill_mode='nearest')\n",
    "    return train_datagen\n",
    "#     return(train_datagen.flow_from_directory(train_dataset_path,\n",
    "#                                                        target_size=(IMG_WIDTH, IMG_HEIGHT),\n",
    "#                                                        batch_size=BATCH_SIZE,\n",
    "#                                                        class_mode='categorical',\n",
    "#                                                        shuffle=True))\n",
    "\n",
    "def val_gen():\n",
    "    val_datagen = ImageDataGenerator(rescale=1.0/255,\n",
    "                                    zoom_range=0.2,\n",
    "                                    width_shift_range=0.2,\n",
    "                                    height_shift_range=0.2,\n",
    "                                    fill_mode='nearest')\n",
    "    return val_datagen\n",
    "\n"
   ]
  },
  {
   "cell_type": "code",
   "execution_count": 5,
   "metadata": {},
   "outputs": [
    {
     "name": "stdout",
     "output_type": "stream",
     "text": [
      "Found 1504 images belonging to 4 classes.\n",
      "Found 186 images belonging to 4 classes.\n"
     ]
    }
   ],
   "source": [
    "from tensorflow.keras import metrics\n",
    "train_data_gen = data_gen()\n",
    "train_generator=train_data_gen.flow_from_directory(train_dataset_path,\n",
    "                                                       target_size=(128,128),\n",
    "                                                       batch_size=128,\n",
    "                                                       class_mode='categorical',\n",
    "                                                       shuffle=True)\n",
    "\n",
    "val_generator = val_gen()\n",
    "val_data_gen = val_generator.flow_from_directory(val_dataset_path,\n",
    "                                                       target_size=(128,128),\n",
    "                                                       batch_size=128,\n",
    "                                                       class_mode='categorical',\n",
    "                                                       shuffle=True)\n",
    "\n",
    "\n",
    "\n",
    "\n",
    "                                      "
   ]
  },
  {
   "cell_type": "code",
   "execution_count": 6,
   "metadata": {},
   "outputs": [
    {
     "name": "stdout",
     "output_type": "stream",
     "text": [
      "Found 193 images belonging to 4 classes.\n"
     ]
    }
   ],
   "source": [
    "test_datagen = ImageDataGenerator(rescale=1.0/255)\n",
    "\n",
    "test_generator = test_datagen.flow_from_directory(test_dataset_path,\n",
    "                                                 shuffle=False,\n",
    "                                                 batch_size=32,\n",
    "                                                 target_size = (128, 128),\n",
    "                                                 class_mode='categorical')"
   ]
  },
  {
   "cell_type": "code",
   "execution_count": 15,
   "metadata": {},
   "outputs": [
    {
     "name": "stdout",
     "output_type": "stream",
     "text": [
      "Model: \"sequential_1\"\n",
      "_________________________________________________________________\n",
      " Layer (type)                Output Shape              Param #   \n",
      "=================================================================\n",
      " conv2d_3 (Conv2D)           (None, 126, 126, 32)      896       \n",
      "                                                                 \n",
      " max_pooling2d_3 (MaxPooling  (None, 63, 63, 32)       0         \n",
      " 2D)                                                             \n",
      "                                                                 \n",
      " conv2d_4 (Conv2D)           (None, 61, 61, 64)        18496     \n",
      "                                                                 \n",
      " max_pooling2d_4 (MaxPooling  (None, 30, 30, 64)       0         \n",
      " 2D)                                                             \n",
      "                                                                 \n",
      " conv2d_5 (Conv2D)           (None, 28, 28, 128)       73856     \n",
      "                                                                 \n",
      " max_pooling2d_5 (MaxPooling  (None, 14, 14, 128)      0         \n",
      " 2D)                                                             \n",
      "                                                                 \n",
      " flatten_1 (Flatten)         (None, 25088)             0         \n",
      "                                                                 \n",
      " dense_2 (Dense)             (None, 128)               3211392   \n",
      "                                                                 \n",
      " dense_3 (Dense)             (None, 4)                 516       \n",
      "                                                                 \n",
      "=================================================================\n",
      "Total params: 3,305,156\n",
      "Trainable params: 3,305,156\n",
      "Non-trainable params: 0\n",
      "_________________________________________________________________\n"
     ]
    }
   ],
   "source": [
    "from tensorflow.keras.models import Sequential\n",
    "from tensorflow.keras.layers import Conv2D, MaxPooling2D, Flatten, Dense, Dropout\n",
    "\n",
    "# Initialize the model\n",
    "model = Sequential()\n",
    "\n",
    "# 1st Convolutional Layer\n",
    "model.add(Conv2D(filters=32, kernel_size=(3, 3), activation='relu', input_shape=(128, 128, 3)))\n",
    "model.add(MaxPooling2D(pool_size=(2, 2)))\n",
    "\n",
    "# 2nd Convolutional Layer\n",
    "model.add(Conv2D(filters=64, kernel_size=(3, 3), activation='relu'))\n",
    "model.add(MaxPooling2D(pool_size=(2, 2)))\n",
    "\n",
    "# # 3rd Convolutional Layer\n",
    "# model.add(Conv2D(filters=128, kernel_size=(3, 3), activation='relu'))\n",
    "# model.add(MaxPooling2D(pool_size=(2, 2)))\n",
    "\n",
    "# # 4th Convolutional Layer\n",
    "# model.add(Conv2D(filters=128, kernel_size=(3, 3), activation='relu'))\n",
    "# model.add(MaxPooling2D(pool_size=(2, 2)))\n",
    "\n",
    "# 5th Convolutional Layer\n",
    "model.add(Conv2D(filters=128, kernel_size=(3, 3), activation='relu'))\n",
    "model.add(MaxPooling2D(pool_size=(2, 2)))\n",
    "\n",
    "# Flatten the layers\n",
    "model.add(Flatten())\n",
    "\n",
    "# Fully connected layer\n",
    "model.add(Dense(128, activation='relu'))\n",
    "#model.add(Dropout(0.5))\n",
    "\n",
    "# Output layer for 4 classes\n",
    "model.add(Dense(4, activation='softmax'))\n",
    "\n",
    "# Compile the model\n",
    "model.compile(optimizer='adam', loss='categorical_crossentropy', metrics=['accuracy'])\n",
    "\n",
    "# Display the model architecture\n",
    "model.summary()\n"
   ]
  },
  {
   "cell_type": "code",
   "execution_count": 16,
   "metadata": {},
   "outputs": [
    {
     "name": "stderr",
     "output_type": "stream",
     "text": [
      "c:\\Users\\PC\\anaconda3\\envs\\kd\\lib\\site-packages\\keras\\optimizers\\optimizer_v2\\adam.py:110: UserWarning: The `lr` argument is deprecated, use `learning_rate` instead.\n",
      "  super(Adam, self).__init__(name, **kwargs)\n"
     ]
    }
   ],
   "source": [
    "opt = Adam(lr=0.0001)"
   ]
  },
  {
   "cell_type": "code",
   "execution_count": 17,
   "metadata": {},
   "outputs": [
    {
     "name": "stdout",
     "output_type": "stream",
     "text": [
      "Epoch 1/25\n",
      "12/12 [==============================] - 6s 439ms/step - loss: 1.5338 - accuracy: 0.3331 - val_loss: 1.2516 - val_accuracy: 0.3656\n",
      "Epoch 2/25\n",
      "12/12 [==============================] - 5s 411ms/step - loss: 1.1083 - accuracy: 0.5512 - val_loss: 0.8282 - val_accuracy: 0.6935\n",
      "Epoch 3/25\n",
      "12/12 [==============================] - 5s 412ms/step - loss: 0.7514 - accuracy: 0.7241 - val_loss: 0.6163 - val_accuracy: 0.7903\n",
      "Epoch 4/25\n",
      "12/12 [==============================] - 5s 411ms/step - loss: 0.6123 - accuracy: 0.7686 - val_loss: 0.5231 - val_accuracy: 0.7957\n",
      "Epoch 5/25\n",
      "12/12 [==============================] - 5s 411ms/step - loss: 0.5444 - accuracy: 0.7806 - val_loss: 0.4737 - val_accuracy: 0.7957\n",
      "Epoch 6/25\n",
      "12/12 [==============================] - 5s 415ms/step - loss: 0.4773 - accuracy: 0.8092 - val_loss: 0.4389 - val_accuracy: 0.8226\n",
      "Epoch 7/25\n",
      "12/12 [==============================] - 5s 411ms/step - loss: 0.4418 - accuracy: 0.8298 - val_loss: 0.4099 - val_accuracy: 0.8495\n",
      "Epoch 8/25\n",
      "12/12 [==============================] - 5s 409ms/step - loss: 0.4560 - accuracy: 0.8271 - val_loss: 0.4482 - val_accuracy: 0.8387\n",
      "Epoch 9/25\n",
      "12/12 [==============================] - 5s 406ms/step - loss: 0.4058 - accuracy: 0.8504 - val_loss: 0.3419 - val_accuracy: 0.8441\n",
      "Epoch 10/25\n",
      "12/12 [==============================] - 5s 406ms/step - loss: 0.3459 - accuracy: 0.8790 - val_loss: 0.3503 - val_accuracy: 0.8871\n",
      "Epoch 11/25\n",
      "12/12 [==============================] - 5s 417ms/step - loss: 0.3464 - accuracy: 0.8803 - val_loss: 0.2873 - val_accuracy: 0.8710\n",
      "Epoch 12/25\n",
      "12/12 [==============================] - 5s 408ms/step - loss: 0.2996 - accuracy: 0.8930 - val_loss: 0.2719 - val_accuracy: 0.8817\n",
      "Epoch 13/25\n",
      "12/12 [==============================] - 5s 419ms/step - loss: 0.2683 - accuracy: 0.8996 - val_loss: 0.2379 - val_accuracy: 0.9032\n",
      "Epoch 14/25\n",
      "12/12 [==============================] - 5s 412ms/step - loss: 0.2606 - accuracy: 0.9082 - val_loss: 0.2908 - val_accuracy: 0.9032\n",
      "Epoch 15/25\n",
      "12/12 [==============================] - 5s 409ms/step - loss: 0.2715 - accuracy: 0.8936 - val_loss: 0.3043 - val_accuracy: 0.8871\n",
      "Epoch 16/25\n",
      "12/12 [==============================] - 5s 405ms/step - loss: 0.2440 - accuracy: 0.9082 - val_loss: 0.2173 - val_accuracy: 0.9247\n",
      "Epoch 17/25\n",
      "12/12 [==============================] - 5s 409ms/step - loss: 0.2555 - accuracy: 0.9162 - val_loss: 0.2190 - val_accuracy: 0.9194\n",
      "Epoch 18/25\n",
      "12/12 [==============================] - 5s 420ms/step - loss: 0.2299 - accuracy: 0.9202 - val_loss: 0.2547 - val_accuracy: 0.9086\n",
      "Epoch 19/25\n",
      "12/12 [==============================] - 5s 410ms/step - loss: 0.2356 - accuracy: 0.9202 - val_loss: 0.2150 - val_accuracy: 0.9247\n",
      "Epoch 20/25\n",
      "12/12 [==============================] - 5s 408ms/step - loss: 0.1926 - accuracy: 0.9309 - val_loss: 0.2191 - val_accuracy: 0.9140\n",
      "Epoch 21/25\n",
      "12/12 [==============================] - 5s 407ms/step - loss: 0.1903 - accuracy: 0.9282 - val_loss: 0.2226 - val_accuracy: 0.9140\n",
      "Epoch 22/25\n",
      "12/12 [==============================] - 5s 417ms/step - loss: 0.1909 - accuracy: 0.9342 - val_loss: 0.1281 - val_accuracy: 0.9731\n",
      "Epoch 23/25\n",
      "12/12 [==============================] - 5s 412ms/step - loss: 0.1770 - accuracy: 0.9335 - val_loss: 0.2343 - val_accuracy: 0.9086\n",
      "Epoch 24/25\n",
      "12/12 [==============================] - 5s 409ms/step - loss: 0.1972 - accuracy: 0.9328 - val_loss: 0.2443 - val_accuracy: 0.9140\n",
      "Epoch 25/25\n",
      "12/12 [==============================] - 5s 407ms/step - loss: 0.1869 - accuracy: 0.9402 - val_loss: 0.2168 - val_accuracy: 0.9355\n"
     ]
    }
   ],
   "source": [
    "\n",
    "dcase_model_history=model.fit(train_generator,\n",
    "                                    batch_size=32,\n",
    "                                    epochs=25,\n",
    "                                    validation_data=val_data_gen)"
   ]
  },
  {
   "cell_type": "code",
   "execution_count": 18,
   "metadata": {},
   "outputs": [
    {
     "data": {
      "image/png": "[encoded data removed]",
      "text/plain": [
       "<Figure size 640x480 with 1 Axes>"
      ]
     },
     "metadata": {},
     "output_type": "display_data"
    }
   ],
   "source": [
    "import matplotlib.pyplot as plt\n",
    "plt.plot(dcase_model_history.history['loss'])\n",
    "plt.plot(dcase_model_history.history['val_loss'])\n",
    "plt.title('model loss')\n",
    "plt.ylabel('loss')\n",
    "plt.xlabel('epoch')\n",
    "plt.legend(['train', 'val'], loc='upper left')\n",
    "plt.show()"
   ]
  },
  {
   "cell_type": "code",
   "execution_count": 19,
   "metadata": {},
   "outputs": [
    {
     "data": {
      "image/png": "[encoded data removed]",
      "text/plain": [
       "<Figure size 640x480 with 1 Axes>"
      ]
     },
     "metadata": {},
     "output_type": "display_data"
    }
   ],
   "source": [
    "plt.plot(dcase_model_history.history['accuracy'])\n",
    "plt.plot(dcase_model_history.history['val_accuracy'])\n",
    "plt.title('model accuracy')\n",
    "plt.ylabel('accuracy')\n",
    "plt.xlabel('epoch')\n",
    "plt.legend(['train', 'val'], loc='upper left')\n",
    "plt.show()"
   ]
  },
  {
   "cell_type": "code",
   "execution_count": 20,
   "metadata": {},
   "outputs": [
    {
     "name": "stdout",
     "output_type": "stream",
     "text": [
      "7/7 [==============================] - 0s 32ms/step - loss: 0.1706 - accuracy: 0.9275\n"
     ]
    }
   ],
   "source": [
    "test_loss, test_accuracy = model.evaluate(test_generator, batch_size=32)"
   ]
  },
  {
   "cell_type": "code",
   "execution_count": 21,
   "metadata": {},
   "outputs": [
    {
     "name": "stdout",
     "output_type": "stream",
     "text": [
      "Label Mappings for classed present in the training and validation datasets\n",
      "\n",
      "0 : Baby_Cry\n",
      "1 : Door_Bell\n",
      "2 : Door_Knock\n",
      "3 : Fire_Alarm\n"
     ]
    }
   ],
   "source": [
    "labels = {value: key for key, value in train_generator.class_indices.items()}\n",
    "\n",
    "print(\"Label Mappings for classed present in the training and validation datasets\\n\")\n",
    "for key,value in labels.items():\n",
    "    print(f\"{key} : {value}\")"
   ]
  },
  {
   "cell_type": "code",
   "execution_count": 22,
   "metadata": {},
   "outputs": [
    {
     "name": "stdout",
     "output_type": "stream",
     "text": [
      "7/7 [==============================] - 0s 34ms/step\n",
      "              precision    recall  f1-score   support\n",
      "\n",
      "    Baby_Cry       0.97      0.97      0.97        62\n",
      "   Door_Bell       0.75      0.90      0.82        30\n",
      "  Door_Knock       1.00      1.00      1.00        49\n",
      "  Fire_Alarm       0.93      0.83      0.88        52\n",
      "\n",
      "    accuracy                           0.93       193\n",
      "   macro avg       0.91      0.92      0.92       193\n",
      "weighted avg       0.93      0.93      0.93       193\n",
      "\n"
     ]
    }
   ],
   "source": [
    "from sklearn.metrics import classification_report\n",
    "import numpy as np\n",
    "predictions = model.predict(test_generator)\n",
    "y_pred = np.argmax(predictions, axis=1)\n",
    "y_true = test_generator.classes\n",
    "print(classification_report(y_true, y_pred, target_names=labels.values()))"
   ]
  }
 ],
 "metadata": {
  "kernelspec": {
   "display_name": "kd",
   "language": "python",
   "name": "python3"
  },
  "language_info": {
   "codemirror_mode": {
    "name": "ipython",
    "version": 3
   },
   "file_extension": ".py",
   "mimetype": "text/x-python",
   "name": "python",
   "nbconvert_exporter": "python",
   "pygments_lexer": "ipython3",
   "version": "3.8.19"
  }
 },
 "nbformat": 4,
 "nbformat_minor": 2
}
