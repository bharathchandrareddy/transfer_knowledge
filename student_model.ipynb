{
 "cells": [
  {
   "cell_type": "code",
   "execution_count": 26,
   "metadata": {},
   "outputs": [],
   "source": [
    "# this file is the first version of the student model and checking its performance on dataset"
   ]
  },
  {
   "cell_type": "code",
   "execution_count": 1,
   "metadata": {},
   "outputs": [],
   "source": [
    "import tensorflow as tf\n",
    "from tensorflow.keras.preprocessing.image import ImageDataGenerator\n",
    "from keras.models import Sequential\n",
    "from keras.models import Sequential\n",
    "from keras.layers import Conv2D, MaxPooling2D, AveragePooling2D, Bidirectional, GRU\n",
    "from keras.layers import Flatten, Dense, Reshape\n",
    "from keras.optimizers import Adam\n",
    "import PIL\n",
    "import scipy\n",
    "\n"
   ]
  },
  {
   "cell_type": "code",
   "execution_count": 28,
   "metadata": {},
   "outputs": [],
   "source": [
    "# import splitfolders\n",
    "# train_dataset_path=\"C:\\\\Users\\\\PC\\\\Desktop\\\\lisnen_data\\\\noise_melspectrograms - Copy\"\n",
    "# splitfolders.ratio(train_dataset_path, output=\"C:\\\\Users\\\\PC\\\\Desktop\\\\lisnen_data\\\\noise_validation_data\", seed=1337, ratio=(.8, 0.1,0.1))\n"
   ]
  },
  {
   "cell_type": "code",
   "execution_count": 2,
   "metadata": {},
   "outputs": [],
   "source": [
    "# creating the datasets\n",
    "train_dataset_path=\"C:\\\\Users\\\\PC\\\\Desktop\\\\lisnen_data\\\\noise_validation_data\\\\train\"\n",
    "val_dataset_path = \"C:\\\\Users\\\\PC\\\\Desktop\\\\lisnen_data\\\\noise_validation_data\\\\val\"\n",
    "test_dataset_path = \"C:\\\\Users\\\\PC\\\\Desktop\\\\lisnen_data\\\\noise_validation_data\\\\test\"\n"
   ]
  },
  {
   "cell_type": "code",
   "execution_count": 16,
   "metadata": {},
   "outputs": [],
   "source": [
    "IMG_WIDTH = 227\n",
    "IMG_HEIGHT = 227\n",
    "BATCH_SIZE = 32"
   ]
  },
  {
   "cell_type": "code",
   "execution_count": 17,
   "metadata": {},
   "outputs": [
    {
     "name": "stdout",
     "output_type": "stream",
     "text": [
      "Found 1506 images belonging to 4 classes.\n"
     ]
    }
   ],
   "source": [
    "train_datagen = ImageDataGenerator(rescale=1.0/255,\n",
    "                                   zoom_range=0.2,\n",
    "                                   width_shift_range=0.2,\n",
    "                                   height_shift_range=0.2,\n",
    "                                   fill_mode='nearest')\n",
    "\n",
    "train_generator = train_datagen.flow_from_directory(train_dataset_path,\n",
    "                                                   target_size=(IMG_WIDTH, IMG_HEIGHT),\n",
    "                                                   batch_size=BATCH_SIZE,\n",
    "                                                   class_mode='categorical',\n",
    "                                                   shuffle=True)"
   ]
  },
  {
   "cell_type": "code",
   "execution_count": 18,
   "metadata": {},
   "outputs": [
    {
     "name": "stdout",
     "output_type": "stream",
     "text": [
      "Found 186 images belonging to 4 classes.\n"
     ]
    }
   ],
   "source": [
    "valid_datagen = ImageDataGenerator(rescale=1.0/255,\n",
    "                                   zoom_range=0.2,\n",
    "                                   width_shift_range=0.2,\n",
    "                                   height_shift_range=0.2,\n",
    "                                   fill_mode='nearest')\n",
    "\n",
    "valid_generator = valid_datagen.flow_from_directory(val_dataset_path,\n",
    "                                                   target_size=(IMG_WIDTH, IMG_HEIGHT),\n",
    "                                                   batch_size=BATCH_SIZE,\n",
    "                                                   class_mode='categorical',\n",
    "                                                   shuffle=True)"
   ]
  },
  {
   "cell_type": "code",
   "execution_count": 19,
   "metadata": {},
   "outputs": [
    {
     "name": "stdout",
     "output_type": "stream",
     "text": [
      "Found 193 images belonging to 4 classes.\n"
     ]
    }
   ],
   "source": [
    "test_datagen = ImageDataGenerator(rescale=1.0/255)\n",
    "\n",
    "test_generator = test_datagen.flow_from_directory(test_dataset_path,\n",
    "                                                 shuffle=False,\n",
    "                                                 batch_size=BATCH_SIZE,\n",
    "                                                 target_size = (IMG_WIDTH, IMG_HEIGHT),\n",
    "                                                 class_mode='categorical')"
   ]
  },
  {
   "cell_type": "code",
   "execution_count": 28,
   "metadata": {},
   "outputs": [
    {
     "name": "stdout",
     "output_type": "stream",
     "text": [
      "Model: \"sequential_3\"\n",
      "_________________________________________________________________\n",
      " Layer (type)                Output Shape              Param #   \n",
      "=================================================================\n",
      " conv2d_8 (Conv2D)           (None, 222, 222, 32)      896       \n",
      "                                                                 \n",
      " max_pooling2d_8 (MaxPooling  (None, 111, 111, 32)     0         \n",
      " 2D)                                                             \n",
      "                                                                 \n",
      " conv2d_9 (Conv2D)           (None, 109, 109, 64)      18496     \n",
      "                                                                 \n",
      " max_pooling2d_9 (MaxPooling  (None, 54, 54, 64)       0         \n",
      " 2D)                                                             \n",
      "                                                                 \n",
      " conv2d_10 (Conv2D)          (None, 52, 52, 128)       73856     \n",
      "                                                                 \n",
      " max_pooling2d_10 (MaxPoolin  (None, 26, 26, 128)      0         \n",
      " g2D)                                                            \n",
      "                                                                 \n",
      " flatten_3 (Flatten)         (None, 86528)             0         \n",
      "                                                                 \n",
      " dense_6 (Dense)             (None, 64)                5537856   \n",
      "                                                                 \n",
      " dense_7 (Dense)             (None, 4)                 260       \n",
      "                                                                 \n",
      "=================================================================\n",
      "Total params: 5,631,364\n",
      "Trainable params: 5,631,364\n",
      "Non-trainable params: 0\n",
      "_________________________________________________________________\n"
     ]
    }
   ],
   "source": [
    "from tensorflow.keras.models import Sequential\n",
    "from tensorflow.keras.layers import Conv2D, MaxPooling2D, Flatten, Dense, Dropout\n",
    "\n",
    "# Initialize the model\n",
    "model = Sequential()\n",
    "\n",
    "# 1st Convolutional Layer\n",
    "model.add(Conv2D(filters=32, kernel_size=(3, 3), activation='relu', input_shape=(224, 224, 3)))\n",
    "model.add(MaxPooling2D(pool_size=(2, 2)))\n",
    "\n",
    "# 2nd Convolutional Layer\n",
    "model.add(Conv2D(filters=64, kernel_size=(3, 3), activation='relu'))\n",
    "model.add(MaxPooling2D(pool_size=(2, 2)))\n",
    "\n",
    "# # 3rd Convolutional Layer\n",
    "# model.add(Conv2D(filters=128, kernel_size=(3, 3), activation='relu'))\n",
    "# model.add(MaxPooling2D(pool_size=(2, 2)))\n",
    "\n",
    "# # 4th Convolutional Layer\n",
    "# model.add(Conv2D(filters=128, kernel_size=(3, 3), activation='relu'))\n",
    "# model.add(MaxPooling2D(pool_size=(2, 2)))\n",
    "\n",
    "# 5th Convolutional Layer\n",
    "model.add(Conv2D(filters=128, kernel_size=(3, 3), activation='relu'))\n",
    "model.add(MaxPooling2D(pool_size=(2, 2)))\n",
    "\n",
    "# Flatten the layers\n",
    "model.add(Flatten())\n",
    "\n",
    "# Fully connected layer\n",
    "model.add(Dense(64, activation='relu'))\n",
    "#model.add(Dropout(0.5))\n",
    "\n",
    "# Output layer for 4 classes\n",
    "model.add(Dense(4, activation='softmax'))\n",
    "\n",
    "# Compile the model\n",
    "model.compile(optimizer='adam', loss='categorical_crossentropy', metrics=['accuracy'])\n",
    "\n",
    "# Display the model architecture\n",
    "model.summary()"
   ]
  },
  {
   "cell_type": "code",
   "execution_count": 29,
   "metadata": {},
   "outputs": [
    {
     "name": "stdout",
     "output_type": "stream",
     "text": [
      "Epoch 1/25\n",
      "48/48 [==============================] - 12s 248ms/step - loss: 1.5270 - accuracy: 0.3831 - val_loss: 1.1823 - val_accuracy: 0.4892\n",
      "Epoch 2/25\n",
      "48/48 [==============================] - 12s 242ms/step - loss: 1.1223 - accuracy: 0.5359 - val_loss: 0.9390 - val_accuracy: 0.6398\n",
      "Epoch 3/25\n",
      "48/48 [==============================] - 12s 242ms/step - loss: 0.8953 - accuracy: 0.6467 - val_loss: 0.8075 - val_accuracy: 0.6989\n",
      "Epoch 4/25\n",
      "48/48 [==============================] - 12s 245ms/step - loss: 0.8284 - accuracy: 0.6873 - val_loss: 0.8627 - val_accuracy: 0.6505\n",
      "Epoch 5/25\n",
      "48/48 [==============================] - 12s 243ms/step - loss: 0.8323 - accuracy: 0.6859 - val_loss: 0.6857 - val_accuracy: 0.7312\n",
      "Epoch 6/25\n",
      "48/48 [==============================] - 12s 240ms/step - loss: 0.7028 - accuracy: 0.7317 - val_loss: 0.5987 - val_accuracy: 0.7527\n",
      "Epoch 7/25\n",
      "48/48 [==============================] - 12s 241ms/step - loss: 0.7546 - accuracy: 0.7032 - val_loss: 0.7263 - val_accuracy: 0.7097\n",
      "Epoch 8/25\n",
      "48/48 [==============================] - 12s 241ms/step - loss: 0.6205 - accuracy: 0.7656 - val_loss: 0.5384 - val_accuracy: 0.7796\n",
      "Epoch 9/25\n",
      "48/48 [==============================] - 12s 246ms/step - loss: 0.5875 - accuracy: 0.7736 - val_loss: 0.5503 - val_accuracy: 0.7527\n",
      "Epoch 10/25\n",
      "48/48 [==============================] - 12s 240ms/step - loss: 0.5566 - accuracy: 0.7815 - val_loss: 0.4709 - val_accuracy: 0.8226\n",
      "Epoch 11/25\n",
      "48/48 [==============================] - 12s 241ms/step - loss: 0.5451 - accuracy: 0.7942 - val_loss: 0.4081 - val_accuracy: 0.8333\n",
      "Epoch 12/25\n",
      "48/48 [==============================] - 12s 243ms/step - loss: 0.4821 - accuracy: 0.8127 - val_loss: 0.4101 - val_accuracy: 0.8495\n",
      "Epoch 13/25\n",
      "48/48 [==============================] - 12s 245ms/step - loss: 0.4325 - accuracy: 0.8367 - val_loss: 0.3840 - val_accuracy: 0.8602\n",
      "Epoch 14/25\n",
      "48/48 [==============================] - 12s 241ms/step - loss: 0.4680 - accuracy: 0.8161 - val_loss: 0.4200 - val_accuracy: 0.8280\n",
      "Epoch 15/25\n",
      "48/48 [==============================] - 12s 243ms/step - loss: 0.4024 - accuracy: 0.8459 - val_loss: 0.4078 - val_accuracy: 0.8548\n",
      "Epoch 16/25\n",
      "48/48 [==============================] - 12s 245ms/step - loss: 0.3798 - accuracy: 0.8639 - val_loss: 0.3179 - val_accuracy: 0.8763\n",
      "Epoch 17/25\n",
      "48/48 [==============================] - 12s 248ms/step - loss: 0.3658 - accuracy: 0.8579 - val_loss: 0.2866 - val_accuracy: 0.8817\n",
      "Epoch 18/25\n",
      "48/48 [==============================] - 12s 244ms/step - loss: 0.3478 - accuracy: 0.8619 - val_loss: 0.3300 - val_accuracy: 0.8871\n",
      "Epoch 19/25\n",
      "48/48 [==============================] - 12s 243ms/step - loss: 0.3289 - accuracy: 0.8798 - val_loss: 0.2966 - val_accuracy: 0.8710\n",
      "Epoch 20/25\n",
      "48/48 [==============================] - 12s 242ms/step - loss: 0.3275 - accuracy: 0.8699 - val_loss: 0.2714 - val_accuracy: 0.8871\n",
      "Epoch 21/25\n",
      "48/48 [==============================] - 12s 241ms/step - loss: 0.3834 - accuracy: 0.8586 - val_loss: 0.3100 - val_accuracy: 0.8656\n",
      "Epoch 22/25\n",
      "48/48 [==============================] - 12s 240ms/step - loss: 0.3455 - accuracy: 0.8738 - val_loss: 0.2732 - val_accuracy: 0.9032\n",
      "Epoch 23/25\n",
      "48/48 [==============================] - 12s 242ms/step - loss: 0.3418 - accuracy: 0.8818 - val_loss: 0.2612 - val_accuracy: 0.8925\n",
      "Epoch 24/25\n",
      "48/48 [==============================] - 12s 241ms/step - loss: 0.2841 - accuracy: 0.8891 - val_loss: 0.2826 - val_accuracy: 0.8871\n",
      "Epoch 25/25\n",
      "48/48 [==============================] - 12s 242ms/step - loss: 0.2748 - accuracy: 0.8971 - val_loss: 0.2429 - val_accuracy: 0.8925\n"
     ]
    }
   ],
   "source": [
    "model_history = model.fit(train_generator,batch_size=32,epochs=25,validation_data=valid_generator)"
   ]
  },
  {
   "cell_type": "code",
   "execution_count": 30,
   "metadata": {},
   "outputs": [
    {
     "name": "stdout",
     "output_type": "stream",
     "text": [
      "7/7 [==============================] - 0s 38ms/step - loss: 0.2964 - accuracy: 0.8653\n"
     ]
    }
   ],
   "source": [
    "test_loss, test_accuracy = model.evaluate(test_generator, batch_size=BATCH_SIZE)"
   ]
  }
 ],
 "metadata": {
  "kernelspec": {
   "display_name": "kd",
   "language": "python",
   "name": "python3"
  },
  "language_info": {
   "codemirror_mode": {
    "name": "ipython",
    "version": 3
   },
   "file_extension": ".py",
   "mimetype": "text/x-python",
   "name": "python",
   "nbconvert_exporter": "python",
   "pygments_lexer": "ipython3",
   "version": "3.8.19"
  }
 },
 "nbformat": 4,
 "nbformat_minor": 2
}
