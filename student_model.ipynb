{
 "cells": [
  {
   "cell_type": "code",
   "execution_count": 1,
   "metadata": {},
   "outputs": [],
   "source": [
    "# this file is the first version of the student model and checking its performance on dataset"
   ]
  },
  {
   "cell_type": "code",
   "execution_count": 2,
   "metadata": {},
   "outputs": [],
   "source": [
    "import tensorflow as tf\n",
    "from tensorflow.keras.preprocessing.image import ImageDataGenerator\n",
    "from keras.models import Sequential\n",
    "from keras.models import Sequential\n",
    "from keras.layers import Conv2D, MaxPooling2D, AveragePooling2D, Bidirectional, GRU\n",
    "from keras.layers import Flatten, Dense, Reshape\n",
    "from keras.optimizers import Adam\n",
    "import PIL\n",
    "import scipy\n"
   ]
  },
  {
   "cell_type": "code",
   "execution_count": 3,
   "metadata": {},
   "outputs": [],
   "source": [
    "# creating the datasets\n",
    "train_dataset_path=\"C:\\\\Users\\\\PC\\\\Desktop\\\\lisnen_data\\\\validation_data\\\\train\"\n",
    "val_dataset_path = \"C:\\\\Users\\\\PC\\\\Desktop\\\\lisnen_data\\\\validation_data\\\\val\"\n",
    "test_dataset_path = \"C:\\\\Users\\\\PC\\\\Desktop\\\\lisnen_data\\\\validation_data\\\\test\"\n"
   ]
  },
  {
   "cell_type": "code",
   "execution_count": 4,
   "metadata": {},
   "outputs": [],
   "source": [
    "def data_gen():\n",
    "    \n",
    "\n",
    "    train_datagen = ImageDataGenerator(rescale=1.0/255,\n",
    "                                       zoom_range=0.2,\n",
    "                                       width_shift_range=0.2,\n",
    "                                       height_shift_range=0.2,\n",
    "                                       fill_mode='nearest')\n",
    "    return train_datagen\n",
    "#     return(train_datagen.flow_from_directory(train_dataset_path,\n",
    "#                                                        target_size=(IMG_WIDTH, IMG_HEIGHT),\n",
    "#                                                        batch_size=BATCH_SIZE,\n",
    "#                                                        class_mode='categorical',\n",
    "#                                                        shuffle=True))\n",
    "\n",
    "def val_gen():\n",
    "    val_datagen = ImageDataGenerator(rescale=1.0/255,\n",
    "                                    zoom_range=0.2,\n",
    "                                    width_shift_range=0.2,\n",
    "                                    height_shift_range=0.2,\n",
    "                                    fill_mode='nearest')\n",
    "    return val_datagen\n",
    "\n"
   ]
  },
  {
   "cell_type": "code",
   "execution_count": 5,
   "metadata": {},
   "outputs": [
    {
     "name": "stdout",
     "output_type": "stream",
     "text": [
      "Found 1504 images belonging to 4 classes.\n",
      "Found 186 images belonging to 4 classes.\n"
     ]
    }
   ],
   "source": [
    "from tensorflow.keras import metrics\n",
    "train_data_gen = data_gen()\n",
    "train_generator=train_data_gen.flow_from_directory(train_dataset_path,\n",
    "                                                       target_size=(128,128),\n",
    "                                                       batch_size=128,\n",
    "                                                       class_mode='categorical',\n",
    "                                                       shuffle=True)\n",
    "\n",
    "val_generator = val_gen()\n",
    "val_data_gen = val_generator.flow_from_directory(val_dataset_path,\n",
    "                                                       target_size=(128,128),\n",
    "                                                       batch_size=128,\n",
    "                                                       class_mode='categorical',\n",
    "                                                       shuffle=True)\n",
    "\n",
    "\n",
    "\n",
    "\n",
    "                                      "
   ]
  },
  {
   "cell_type": "code",
   "execution_count": 6,
   "metadata": {},
   "outputs": [
    {
     "name": "stdout",
     "output_type": "stream",
     "text": [
      "Found 193 images belonging to 4 classes.\n"
     ]
    }
   ],
   "source": [
    "test_datagen = ImageDataGenerator(rescale=1.0/255)\n",
    "\n",
    "test_generator = test_datagen.flow_from_directory(test_dataset_path,\n",
    "                                                 shuffle=False,\n",
    "                                                 batch_size=32,\n",
    "                                                 target_size = (128, 128),\n",
    "                                                 class_mode='categorical')"
   ]
  },
  {
   "cell_type": "code",
   "execution_count": 7,
   "metadata": {},
   "outputs": [
    {
     "name": "stdout",
     "output_type": "stream",
     "text": [
      "Model: \"sequential\"\n",
      "_________________________________________________________________\n",
      " Layer (type)                Output Shape              Param #   \n",
      "=================================================================\n",
      " conv2d (Conv2D)             (None, 126, 126, 32)      896       \n",
      "                                                                 \n",
      " max_pooling2d (MaxPooling2D  (None, 63, 63, 32)       0         \n",
      " )                                                               \n",
      "                                                                 \n",
      " conv2d_1 (Conv2D)           (None, 61, 61, 64)        18496     \n",
      "                                                                 \n",
      " max_pooling2d_1 (MaxPooling  (None, 30, 30, 64)       0         \n",
      " 2D)                                                             \n",
      "                                                                 \n",
      " conv2d_2 (Conv2D)           (None, 28, 28, 128)       73856     \n",
      "                                                                 \n",
      " max_pooling2d_2 (MaxPooling  (None, 14, 14, 128)      0         \n",
      " 2D)                                                             \n",
      "                                                                 \n",
      " conv2d_3 (Conv2D)           (None, 12, 12, 128)       147584    \n",
      "                                                                 \n",
      " max_pooling2d_3 (MaxPooling  (None, 6, 6, 128)        0         \n",
      " 2D)                                                             \n",
      "                                                                 \n",
      " conv2d_4 (Conv2D)           (None, 4, 4, 256)         295168    \n",
      "                                                                 \n",
      " max_pooling2d_4 (MaxPooling  (None, 2, 2, 256)        0         \n",
      " 2D)                                                             \n",
      "                                                                 \n",
      " flatten (Flatten)           (None, 1024)              0         \n",
      "                                                                 \n",
      " dense (Dense)               (None, 128)               131200    \n",
      "                                                                 \n",
      " dropout (Dropout)           (None, 128)               0         \n",
      "                                                                 \n",
      " dense_1 (Dense)             (None, 4)                 516       \n",
      "                                                                 \n",
      "=================================================================\n",
      "Total params: 667,716\n",
      "Trainable params: 667,716\n",
      "Non-trainable params: 0\n",
      "_________________________________________________________________\n"
     ]
    }
   ],
   "source": [
    "from tensorflow.keras.models import Sequential\n",
    "from tensorflow.keras.layers import Conv2D, MaxPooling2D, Flatten, Dense, Dropout\n",
    "\n",
    "# Initialize the model\n",
    "model = Sequential()\n",
    "\n",
    "# 1st Convolutional Layer\n",
    "model.add(Conv2D(filters=32, kernel_size=(3, 3), activation='relu', input_shape=(128, 128, 3)))\n",
    "model.add(MaxPooling2D(pool_size=(2, 2)))\n",
    "\n",
    "# 2nd Convolutional Layer\n",
    "model.add(Conv2D(filters=64, kernel_size=(3, 3), activation='relu'))\n",
    "model.add(MaxPooling2D(pool_size=(2, 2)))\n",
    "\n",
    "# 3rd Convolutional Layer\n",
    "model.add(Conv2D(filters=128, kernel_size=(3, 3), activation='relu'))\n",
    "model.add(MaxPooling2D(pool_size=(2, 2)))\n",
    "\n",
    "# 4th Convolutional Layer\n",
    "model.add(Conv2D(filters=128, kernel_size=(3, 3), activation='relu'))\n",
    "model.add(MaxPooling2D(pool_size=(2, 2)))\n",
    "\n",
    "# 5th Convolutional Layer\n",
    "model.add(Conv2D(filters=256, kernel_size=(3, 3), activation='relu'))\n",
    "model.add(MaxPooling2D(pool_size=(2, 2)))\n",
    "\n",
    "# Flatten the layers\n",
    "model.add(Flatten())\n",
    "\n",
    "# Fully connected layer\n",
    "model.add(Dense(128, activation='relu'))\n",
    "model.add(Dropout(0.5))\n",
    "\n",
    "# Output layer for 4 classes\n",
    "model.add(Dense(4, activation='softmax'))\n",
    "\n",
    "# Compile the model\n",
    "model.compile(optimizer='adam', loss='categorical_crossentropy', metrics=['accuracy'])\n",
    "\n",
    "# Display the model architecture\n",
    "model.summary()\n"
   ]
  },
  {
   "cell_type": "code",
   "execution_count": 8,
   "metadata": {},
   "outputs": [
    {
     "name": "stderr",
     "output_type": "stream",
     "text": [
      "c:\\Users\\PC\\anaconda3\\envs\\kd\\lib\\site-packages\\keras\\optimizers\\optimizer_v2\\adam.py:110: UserWarning: The `lr` argument is deprecated, use `learning_rate` instead.\n",
      "  super(Adam, self).__init__(name, **kwargs)\n"
     ]
    }
   ],
   "source": [
    "opt = Adam(lr=0.0001)"
   ]
  },
  {
   "cell_type": "code",
   "execution_count": 9,
   "metadata": {},
   "outputs": [
    {
     "name": "stdout",
     "output_type": "stream",
     "text": [
      "Epoch 1/25\n",
      "12/12 [==============================] - 9s 466ms/step - loss: 1.2953 - accuracy: 0.3936 - val_loss: 1.0112 - val_accuracy: 0.6828\n",
      "Epoch 2/25\n",
      "12/12 [==============================] - 5s 413ms/step - loss: 0.9936 - accuracy: 0.5984 - val_loss: 0.7467 - val_accuracy: 0.7419\n",
      "Epoch 3/25\n",
      "12/12 [==============================] - 5s 412ms/step - loss: 0.7241 - accuracy: 0.7108 - val_loss: 0.4621 - val_accuracy: 0.7957\n",
      "Epoch 4/25\n",
      "12/12 [==============================] - 5s 415ms/step - loss: 0.6010 - accuracy: 0.7653 - val_loss: 0.5140 - val_accuracy: 0.7742\n",
      "Epoch 5/25\n",
      "12/12 [==============================] - 5s 411ms/step - loss: 0.6338 - accuracy: 0.7493 - val_loss: 0.5258 - val_accuracy: 0.7849\n",
      "Epoch 6/25\n",
      "12/12 [==============================] - 5s 412ms/step - loss: 0.5477 - accuracy: 0.7826 - val_loss: 0.4506 - val_accuracy: 0.8118\n",
      "Epoch 7/25\n",
      "12/12 [==============================] - 5s 413ms/step - loss: 0.5057 - accuracy: 0.7866 - val_loss: 0.4246 - val_accuracy: 0.8280\n",
      "Epoch 8/25\n",
      "12/12 [==============================] - 5s 411ms/step - loss: 0.4463 - accuracy: 0.8245 - val_loss: 0.4270 - val_accuracy: 0.8333\n",
      "Epoch 9/25\n",
      "12/12 [==============================] - 5s 416ms/step - loss: 0.4501 - accuracy: 0.8211 - val_loss: 0.3816 - val_accuracy: 0.8495\n",
      "Epoch 10/25\n",
      "12/12 [==============================] - 5s 412ms/step - loss: 0.4394 - accuracy: 0.8311 - val_loss: 0.3257 - val_accuracy: 0.8763\n",
      "Epoch 11/25\n",
      "12/12 [==============================] - 5s 417ms/step - loss: 0.3945 - accuracy: 0.8471 - val_loss: 0.3737 - val_accuracy: 0.8387\n",
      "Epoch 12/25\n",
      "12/12 [==============================] - 5s 411ms/step - loss: 0.3367 - accuracy: 0.8737 - val_loss: 0.3295 - val_accuracy: 0.8817\n",
      "Epoch 13/25\n",
      "12/12 [==============================] - 5s 413ms/step - loss: 0.4005 - accuracy: 0.8504 - val_loss: 0.3281 - val_accuracy: 0.8710\n",
      "Epoch 14/25\n",
      "12/12 [==============================] - 5s 411ms/step - loss: 0.3679 - accuracy: 0.8757 - val_loss: 0.2500 - val_accuracy: 0.9086\n",
      "Epoch 15/25\n",
      "12/12 [==============================] - 5s 418ms/step - loss: 0.3084 - accuracy: 0.8863 - val_loss: 0.2770 - val_accuracy: 0.8978\n",
      "Epoch 16/25\n",
      "12/12 [==============================] - 5s 414ms/step - loss: 0.2876 - accuracy: 0.8943 - val_loss: 0.2259 - val_accuracy: 0.9409\n",
      "Epoch 17/25\n",
      "12/12 [==============================] - 5s 413ms/step - loss: 0.2929 - accuracy: 0.8969 - val_loss: 0.2049 - val_accuracy: 0.9409\n",
      "Epoch 18/25\n",
      "12/12 [==============================] - 5s 411ms/step - loss: 0.2719 - accuracy: 0.9016 - val_loss: 0.2229 - val_accuracy: 0.9247\n",
      "Epoch 19/25\n",
      "12/12 [==============================] - 5s 414ms/step - loss: 0.2513 - accuracy: 0.9122 - val_loss: 0.2273 - val_accuracy: 0.9140\n",
      "Epoch 20/25\n",
      "12/12 [==============================] - 5s 410ms/step - loss: 0.2751 - accuracy: 0.9169 - val_loss: 0.2225 - val_accuracy: 0.9247\n",
      "Epoch 21/25\n",
      "12/12 [==============================] - 5s 413ms/step - loss: 0.2330 - accuracy: 0.9136 - val_loss: 0.1855 - val_accuracy: 0.9140\n",
      "Epoch 22/25\n",
      "12/12 [==============================] - 5s 411ms/step - loss: 0.2223 - accuracy: 0.9289 - val_loss: 0.2240 - val_accuracy: 0.9086\n",
      "Epoch 23/25\n",
      "12/12 [==============================] - 5s 410ms/step - loss: 0.1917 - accuracy: 0.9328 - val_loss: 0.2272 - val_accuracy: 0.9301\n",
      "Epoch 24/25\n",
      "12/12 [==============================] - 5s 415ms/step - loss: 0.1858 - accuracy: 0.9295 - val_loss: 0.1787 - val_accuracy: 0.9301\n",
      "Epoch 25/25\n",
      "12/12 [==============================] - 5s 412ms/step - loss: 0.2239 - accuracy: 0.9169 - val_loss: 0.1995 - val_accuracy: 0.9409\n"
     ]
    }
   ],
   "source": [
    "\n",
    "dcase_model_history=model.fit(train_generator,\n",
    "                                    batch_size=32,\n",
    "                                    epochs=25,\n",
    "                                    validation_data=val_data_gen)"
   ]
  },
  {
   "cell_type": "code",
   "execution_count": 12,
   "metadata": {},
   "outputs": [
    {
     "data": {
      "image/png": "[encoded data removed]",
      "text/plain": [
       "<Figure size 640x480 with 1 Axes>"
      ]
     },
     "metadata": {},
     "output_type": "display_data"
    }
   ],
   "source": [
    "import matplotlib.pyplot as plt\n",
    "plt.plot(dcase_model_history.history['loss'])\n",
    "plt.plot(dcase_model_history.history['val_loss'])\n",
    "plt.title('model loss')\n",
    "plt.ylabel('loss')\n",
    "plt.xlabel('epoch')\n",
    "plt.legend(['train', 'val'], loc='upper left')\n",
    "plt.show()"
   ]
  },
  {
   "cell_type": "code",
   "execution_count": 13,
   "metadata": {},
   "outputs": [
    {
     "data": {
      "image/png": "[encoded data removed]",
      "text/plain": [
       "<Figure size 640x480 with 1 Axes>"
      ]
     },
     "metadata": {},
     "output_type": "display_data"
    }
   ],
   "source": [
    "plt.plot(dcase_model_history.history['accuracy'])\n",
    "plt.plot(dcase_model_history.history['val_accuracy'])\n",
    "plt.title('model accuracy')\n",
    "plt.ylabel('accuracy')\n",
    "plt.xlabel('epoch')\n",
    "plt.legend(['train', 'val'], loc='upper left')\n",
    "plt.show()"
   ]
  },
  {
   "cell_type": "code",
   "execution_count": 14,
   "metadata": {},
   "outputs": [
    {
     "name": "stdout",
     "output_type": "stream",
     "text": [
      "7/7 [==============================] - 1s 153ms/step - loss: 0.1697 - accuracy: 0.9275\n"
     ]
    }
   ],
   "source": [
    "test_loss, test_accuracy = model.evaluate(test_generator, batch_size=32)"
   ]
  },
  {
   "cell_type": "code",
   "execution_count": 18,
   "metadata": {},
   "outputs": [
    {
     "name": "stdout",
     "output_type": "stream",
     "text": [
      "Label Mappings for classed present in the training and validation datasets\n",
      "\n",
      "0 : Baby_Cry\n",
      "1 : Door_Bell\n",
      "2 : Door_Knock\n",
      "3 : Fire_Alarm\n"
     ]
    }
   ],
   "source": [
    "labels = {value: key for key, value in train_generator.class_indices.items()}\n",
    "\n",
    "print(\"Label Mappings for classed present in the training and validation datasets\\n\")\n",
    "for key,value in labels.items():\n",
    "    print(f\"{key} : {value}\")"
   ]
  },
  {
   "cell_type": "code",
   "execution_count": 19,
   "metadata": {},
   "outputs": [
    {
     "name": "stdout",
     "output_type": "stream",
     "text": [
      "7/7 [==============================] - 0s 56ms/step\n",
      "              precision    recall  f1-score   support\n",
      "\n",
      "    Baby_Cry       0.97      0.92      0.94        62\n",
      "   Door_Bell       0.84      0.90      0.87        30\n",
      "  Door_Knock       1.00      1.00      1.00        49\n",
      "  Fire_Alarm       0.87      0.88      0.88        52\n",
      "\n",
      "    accuracy                           0.93       193\n",
      "   macro avg       0.92      0.93      0.92       193\n",
      "weighted avg       0.93      0.93      0.93       193\n",
      "\n"
     ]
    }
   ],
   "source": [
    "from sklearn.metrics import classification_report\n",
    "import numpy as np\n",
    "predictions = model.predict(test_generator)\n",
    "y_pred = np.argmax(predictions, axis=1)\n",
    "y_true = test_generator.classes\n",
    "print(classification_report(y_true, y_pred, target_names=labels.values()))"
   ]
  }
 ],
 "metadata": {
  "kernelspec": {
   "display_name": "kd",
   "language": "python",
   "name": "python3"
  },
  "language_info": {
   "codemirror_mode": {
    "name": "ipython",
    "version": 3
   },
   "file_extension": ".py",
   "mimetype": "text/x-python",
   "name": "python",
   "nbconvert_exporter": "python",
   "pygments_lexer": "ipython3",
   "version": "3.8.19"
  }
 },
 "nbformat": 4,
 "nbformat_minor": 2
}
